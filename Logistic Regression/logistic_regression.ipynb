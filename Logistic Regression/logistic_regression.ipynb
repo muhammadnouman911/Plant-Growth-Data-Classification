{
 "cells": [
  {
   "metadata": {
    "ExecuteTime": {
     "end_time": "2024-07-20T09:03:08.342690Z",
     "start_time": "2024-07-20T09:03:06.782201Z"
    }
   },
   "cell_type": "code",
   "source": [
    "import pandas as pd\n",
    "import numpy as np\n",
    "import matplotlib.pyplot as plt\n"
   ],
   "id": "1db4b450066a9505",
   "outputs": [],
   "execution_count": 1
  },
  {
   "metadata": {
    "ExecuteTime": {
     "end_time": "2024-07-20T09:03:10.743277Z",
     "start_time": "2024-07-20T09:03:10.686457Z"
    }
   },
   "cell_type": "code",
   "source": [
    "df=pd.read_csv('../plant_growth_data.csv')\n",
    "df.head()\n",
    "X=df.iloc[:,:-1]\n",
    "Y=df.iloc[:,-1]\n",
    "X"
   ],
   "id": "de36780c7803c137",
   "outputs": [
    {
     "data": {
      "text/plain": [
       "    Soil_Type  Sunlight_Hours Water_Frequency Fertilizer_Type  Temperature  \\\n",
       "0        loam        5.192294       bi-weekly        chemical    31.719602   \n",
       "1       sandy        4.033133          weekly         organic    28.919484   \n",
       "2        loam        8.892769       bi-weekly            none    23.179059   \n",
       "3        loam        8.241144       bi-weekly            none    18.465886   \n",
       "4       sandy        8.374043       bi-weekly         organic    18.128741   \n",
       "..        ...             ...             ...             ...          ...   \n",
       "188     sandy        5.652000           daily            none    28.000000   \n",
       "189      clay        7.528000          weekly        chemical    30.500000   \n",
       "190      loam        4.934000       bi-weekly            none    24.500000   \n",
       "191     sandy        8.273000           daily         organic    27.900000   \n",
       "192      clay        6.732000          weekly            none    21.700000   \n",
       "\n",
       "      Humidity  \n",
       "0    61.591861  \n",
       "1    52.422276  \n",
       "2    44.660539  \n",
       "3    46.433227  \n",
       "4    63.625923  \n",
       "..         ...  \n",
       "188  70.200000  \n",
       "189  60.100000  \n",
       "190  61.700000  \n",
       "191  69.500000  \n",
       "192  56.900000  \n",
       "\n",
       "[193 rows x 6 columns]"
      ],
      "text/html": [
       "<div>\n",
       "<style scoped>\n",
       "    .dataframe tbody tr th:only-of-type {\n",
       "        vertical-align: middle;\n",
       "    }\n",
       "\n",
       "    .dataframe tbody tr th {\n",
       "        vertical-align: top;\n",
       "    }\n",
       "\n",
       "    .dataframe thead th {\n",
       "        text-align: right;\n",
       "    }\n",
       "</style>\n",
       "<table border=\"1\" class=\"dataframe\">\n",
       "  <thead>\n",
       "    <tr style=\"text-align: right;\">\n",
       "      <th></th>\n",
       "      <th>Soil_Type</th>\n",
       "      <th>Sunlight_Hours</th>\n",
       "      <th>Water_Frequency</th>\n",
       "      <th>Fertilizer_Type</th>\n",
       "      <th>Temperature</th>\n",
       "      <th>Humidity</th>\n",
       "    </tr>\n",
       "  </thead>\n",
       "  <tbody>\n",
       "    <tr>\n",
       "      <th>0</th>\n",
       "      <td>loam</td>\n",
       "      <td>5.192294</td>\n",
       "      <td>bi-weekly</td>\n",
       "      <td>chemical</td>\n",
       "      <td>31.719602</td>\n",
       "      <td>61.591861</td>\n",
       "    </tr>\n",
       "    <tr>\n",
       "      <th>1</th>\n",
       "      <td>sandy</td>\n",
       "      <td>4.033133</td>\n",
       "      <td>weekly</td>\n",
       "      <td>organic</td>\n",
       "      <td>28.919484</td>\n",
       "      <td>52.422276</td>\n",
       "    </tr>\n",
       "    <tr>\n",
       "      <th>2</th>\n",
       "      <td>loam</td>\n",
       "      <td>8.892769</td>\n",
       "      <td>bi-weekly</td>\n",
       "      <td>none</td>\n",
       "      <td>23.179059</td>\n",
       "      <td>44.660539</td>\n",
       "    </tr>\n",
       "    <tr>\n",
       "      <th>3</th>\n",
       "      <td>loam</td>\n",
       "      <td>8.241144</td>\n",
       "      <td>bi-weekly</td>\n",
       "      <td>none</td>\n",
       "      <td>18.465886</td>\n",
       "      <td>46.433227</td>\n",
       "    </tr>\n",
       "    <tr>\n",
       "      <th>4</th>\n",
       "      <td>sandy</td>\n",
       "      <td>8.374043</td>\n",
       "      <td>bi-weekly</td>\n",
       "      <td>organic</td>\n",
       "      <td>18.128741</td>\n",
       "      <td>63.625923</td>\n",
       "    </tr>\n",
       "    <tr>\n",
       "      <th>...</th>\n",
       "      <td>...</td>\n",
       "      <td>...</td>\n",
       "      <td>...</td>\n",
       "      <td>...</td>\n",
       "      <td>...</td>\n",
       "      <td>...</td>\n",
       "    </tr>\n",
       "    <tr>\n",
       "      <th>188</th>\n",
       "      <td>sandy</td>\n",
       "      <td>5.652000</td>\n",
       "      <td>daily</td>\n",
       "      <td>none</td>\n",
       "      <td>28.000000</td>\n",
       "      <td>70.200000</td>\n",
       "    </tr>\n",
       "    <tr>\n",
       "      <th>189</th>\n",
       "      <td>clay</td>\n",
       "      <td>7.528000</td>\n",
       "      <td>weekly</td>\n",
       "      <td>chemical</td>\n",
       "      <td>30.500000</td>\n",
       "      <td>60.100000</td>\n",
       "    </tr>\n",
       "    <tr>\n",
       "      <th>190</th>\n",
       "      <td>loam</td>\n",
       "      <td>4.934000</td>\n",
       "      <td>bi-weekly</td>\n",
       "      <td>none</td>\n",
       "      <td>24.500000</td>\n",
       "      <td>61.700000</td>\n",
       "    </tr>\n",
       "    <tr>\n",
       "      <th>191</th>\n",
       "      <td>sandy</td>\n",
       "      <td>8.273000</td>\n",
       "      <td>daily</td>\n",
       "      <td>organic</td>\n",
       "      <td>27.900000</td>\n",
       "      <td>69.500000</td>\n",
       "    </tr>\n",
       "    <tr>\n",
       "      <th>192</th>\n",
       "      <td>clay</td>\n",
       "      <td>6.732000</td>\n",
       "      <td>weekly</td>\n",
       "      <td>none</td>\n",
       "      <td>21.700000</td>\n",
       "      <td>56.900000</td>\n",
       "    </tr>\n",
       "  </tbody>\n",
       "</table>\n",
       "<p>193 rows × 6 columns</p>\n",
       "</div>"
      ]
     },
     "execution_count": 2,
     "metadata": {},
     "output_type": "execute_result"
    }
   ],
   "execution_count": 2
  },
  {
   "metadata": {
    "ExecuteTime": {
     "end_time": "2024-07-20T09:03:13.410485Z",
     "start_time": "2024-07-20T09:03:11.682813Z"
    }
   },
   "cell_type": "code",
   "source": [
    "from sklearn.preprocessing import LabelEncoder\n",
    "label_encoder = LabelEncoder()\n",
    "X.iloc[:, 0] = label_encoder.fit_transform(X.iloc[:, 0])\n",
    "X"
   ],
   "id": "c8dbe19982f3f9f5",
   "outputs": [
    {
     "data": {
      "text/plain": [
       "    Soil_Type  Sunlight_Hours Water_Frequency Fertilizer_Type  Temperature  \\\n",
       "0           1        5.192294       bi-weekly        chemical    31.719602   \n",
       "1           2        4.033133          weekly         organic    28.919484   \n",
       "2           1        8.892769       bi-weekly            none    23.179059   \n",
       "3           1        8.241144       bi-weekly            none    18.465886   \n",
       "4           2        8.374043       bi-weekly         organic    18.128741   \n",
       "..        ...             ...             ...             ...          ...   \n",
       "188         2        5.652000           daily            none    28.000000   \n",
       "189         0        7.528000          weekly        chemical    30.500000   \n",
       "190         1        4.934000       bi-weekly            none    24.500000   \n",
       "191         2        8.273000           daily         organic    27.900000   \n",
       "192         0        6.732000          weekly            none    21.700000   \n",
       "\n",
       "      Humidity  \n",
       "0    61.591861  \n",
       "1    52.422276  \n",
       "2    44.660539  \n",
       "3    46.433227  \n",
       "4    63.625923  \n",
       "..         ...  \n",
       "188  70.200000  \n",
       "189  60.100000  \n",
       "190  61.700000  \n",
       "191  69.500000  \n",
       "192  56.900000  \n",
       "\n",
       "[193 rows x 6 columns]"
      ],
      "text/html": [
       "<div>\n",
       "<style scoped>\n",
       "    .dataframe tbody tr th:only-of-type {\n",
       "        vertical-align: middle;\n",
       "    }\n",
       "\n",
       "    .dataframe tbody tr th {\n",
       "        vertical-align: top;\n",
       "    }\n",
       "\n",
       "    .dataframe thead th {\n",
       "        text-align: right;\n",
       "    }\n",
       "</style>\n",
       "<table border=\"1\" class=\"dataframe\">\n",
       "  <thead>\n",
       "    <tr style=\"text-align: right;\">\n",
       "      <th></th>\n",
       "      <th>Soil_Type</th>\n",
       "      <th>Sunlight_Hours</th>\n",
       "      <th>Water_Frequency</th>\n",
       "      <th>Fertilizer_Type</th>\n",
       "      <th>Temperature</th>\n",
       "      <th>Humidity</th>\n",
       "    </tr>\n",
       "  </thead>\n",
       "  <tbody>\n",
       "    <tr>\n",
       "      <th>0</th>\n",
       "      <td>1</td>\n",
       "      <td>5.192294</td>\n",
       "      <td>bi-weekly</td>\n",
       "      <td>chemical</td>\n",
       "      <td>31.719602</td>\n",
       "      <td>61.591861</td>\n",
       "    </tr>\n",
       "    <tr>\n",
       "      <th>1</th>\n",
       "      <td>2</td>\n",
       "      <td>4.033133</td>\n",
       "      <td>weekly</td>\n",
       "      <td>organic</td>\n",
       "      <td>28.919484</td>\n",
       "      <td>52.422276</td>\n",
       "    </tr>\n",
       "    <tr>\n",
       "      <th>2</th>\n",
       "      <td>1</td>\n",
       "      <td>8.892769</td>\n",
       "      <td>bi-weekly</td>\n",
       "      <td>none</td>\n",
       "      <td>23.179059</td>\n",
       "      <td>44.660539</td>\n",
       "    </tr>\n",
       "    <tr>\n",
       "      <th>3</th>\n",
       "      <td>1</td>\n",
       "      <td>8.241144</td>\n",
       "      <td>bi-weekly</td>\n",
       "      <td>none</td>\n",
       "      <td>18.465886</td>\n",
       "      <td>46.433227</td>\n",
       "    </tr>\n",
       "    <tr>\n",
       "      <th>4</th>\n",
       "      <td>2</td>\n",
       "      <td>8.374043</td>\n",
       "      <td>bi-weekly</td>\n",
       "      <td>organic</td>\n",
       "      <td>18.128741</td>\n",
       "      <td>63.625923</td>\n",
       "    </tr>\n",
       "    <tr>\n",
       "      <th>...</th>\n",
       "      <td>...</td>\n",
       "      <td>...</td>\n",
       "      <td>...</td>\n",
       "      <td>...</td>\n",
       "      <td>...</td>\n",
       "      <td>...</td>\n",
       "    </tr>\n",
       "    <tr>\n",
       "      <th>188</th>\n",
       "      <td>2</td>\n",
       "      <td>5.652000</td>\n",
       "      <td>daily</td>\n",
       "      <td>none</td>\n",
       "      <td>28.000000</td>\n",
       "      <td>70.200000</td>\n",
       "    </tr>\n",
       "    <tr>\n",
       "      <th>189</th>\n",
       "      <td>0</td>\n",
       "      <td>7.528000</td>\n",
       "      <td>weekly</td>\n",
       "      <td>chemical</td>\n",
       "      <td>30.500000</td>\n",
       "      <td>60.100000</td>\n",
       "    </tr>\n",
       "    <tr>\n",
       "      <th>190</th>\n",
       "      <td>1</td>\n",
       "      <td>4.934000</td>\n",
       "      <td>bi-weekly</td>\n",
       "      <td>none</td>\n",
       "      <td>24.500000</td>\n",
       "      <td>61.700000</td>\n",
       "    </tr>\n",
       "    <tr>\n",
       "      <th>191</th>\n",
       "      <td>2</td>\n",
       "      <td>8.273000</td>\n",
       "      <td>daily</td>\n",
       "      <td>organic</td>\n",
       "      <td>27.900000</td>\n",
       "      <td>69.500000</td>\n",
       "    </tr>\n",
       "    <tr>\n",
       "      <th>192</th>\n",
       "      <td>0</td>\n",
       "      <td>6.732000</td>\n",
       "      <td>weekly</td>\n",
       "      <td>none</td>\n",
       "      <td>21.700000</td>\n",
       "      <td>56.900000</td>\n",
       "    </tr>\n",
       "  </tbody>\n",
       "</table>\n",
       "<p>193 rows × 6 columns</p>\n",
       "</div>"
      ]
     },
     "execution_count": 3,
     "metadata": {},
     "output_type": "execute_result"
    }
   ],
   "execution_count": 3
  },
  {
   "metadata": {
    "ExecuteTime": {
     "end_time": "2024-07-20T09:03:13.434229Z",
     "start_time": "2024-07-20T09:03:13.412452Z"
    }
   },
   "cell_type": "code",
   "source": [
    "from sklearn.preprocessing import OneHotEncoder\n",
    "from sklearn.compose import ColumnTransformer\n",
    "#Argument should be categorial data feild\n",
    "\n",
    "\n",
    "# Country column\n",
    "# Assuming X is your dataset\n",
    "# Define the ColumnTransformer with OneHotEncoder for the first column (index 0)\n",
    "ct = ColumnTransformer(\n",
    "    transformers=[\n",
    "        ('soil', OneHotEncoder(drop='first'), [0])\n",
    "    ], remainder='passthrough'\n",
    ")\n",
    "\n",
    "# Fit and transform the dataset\n",
    "X = np.array(ct.fit_transform(X))\n",
    "X"
   ],
   "id": "450847b8d97e28e5",
   "outputs": [
    {
     "data": {
      "text/plain": [
       "array([[1.0, 0.0, 5.192294089205035, ..., 'chemical', 31.71960241024412,\n",
       "        61.59186060848997],\n",
       "       [0.0, 1.0, 4.033132702741614, ..., 'organic', 28.91948412187396,\n",
       "        52.42227609891599],\n",
       "       [1.0, 0.0, 8.892768570729004, ..., 'none', 23.1790588882854,\n",
       "        44.66053858490323],\n",
       "       ...,\n",
       "       [1.0, 0.0, 4.934, ..., 'none', 24.5, 61.7],\n",
       "       [0.0, 1.0, 8.273, ..., 'organic', 27.9, 69.5],\n",
       "       [0.0, 0.0, 6.732, ..., 'none', 21.7, 56.9]], dtype=object)"
      ]
     },
     "execution_count": 4,
     "metadata": {},
     "output_type": "execute_result"
    }
   ],
   "execution_count": 4
  },
  {
   "metadata": {
    "ExecuteTime": {
     "end_time": "2024-07-20T09:03:14.828148Z",
     "start_time": "2024-07-20T09:03:14.815206Z"
    }
   },
   "cell_type": "code",
   "source": [
    "X[:, 3] = label_encoder.fit_transform(X[:, 3])\n",
    "X"
   ],
   "id": "53194e18fdd54c0",
   "outputs": [
    {
     "data": {
      "text/plain": [
       "array([[1.0, 0.0, 5.192294089205035, ..., 'chemical', 31.71960241024412,\n",
       "        61.59186060848997],\n",
       "       [0.0, 1.0, 4.033132702741614, ..., 'organic', 28.91948412187396,\n",
       "        52.42227609891599],\n",
       "       [1.0, 0.0, 8.892768570729004, ..., 'none', 23.1790588882854,\n",
       "        44.66053858490323],\n",
       "       ...,\n",
       "       [1.0, 0.0, 4.934, ..., 'none', 24.5, 61.7],\n",
       "       [0.0, 1.0, 8.273, ..., 'organic', 27.9, 69.5],\n",
       "       [0.0, 0.0, 6.732, ..., 'none', 21.7, 56.9]], dtype=object)"
      ]
     },
     "execution_count": 5,
     "metadata": {},
     "output_type": "execute_result"
    }
   ],
   "execution_count": 5
  },
  {
   "metadata": {
    "ExecuteTime": {
     "end_time": "2024-07-20T09:03:16.277501Z",
     "start_time": "2024-07-20T09:03:16.246513Z"
    }
   },
   "cell_type": "code",
   "source": [
    "\n",
    "ct = ColumnTransformer(\n",
    "    transformers=[\n",
    "        ('water_frequency', OneHotEncoder(drop='first'), [3])\n",
    "    ], remainder='passthrough'\n",
    ")\n",
    "\n",
    "# Fit and transform the dataset\n",
    "X = np.array(ct.fit_transform(X))\n",
    "X"
   ],
   "id": "3e494fd68456b6dc",
   "outputs": [
    {
     "data": {
      "text/plain": [
       "array([[0.0, 0.0, 1.0, ..., 'chemical', 31.71960241024412,\n",
       "        61.59186060848997],\n",
       "       [0.0, 1.0, 0.0, ..., 'organic', 28.91948412187396,\n",
       "        52.42227609891599],\n",
       "       [0.0, 0.0, 1.0, ..., 'none', 23.1790588882854, 44.66053858490323],\n",
       "       ...,\n",
       "       [0.0, 0.0, 1.0, ..., 'none', 24.5, 61.7],\n",
       "       [1.0, 0.0, 0.0, ..., 'organic', 27.9, 69.5],\n",
       "       [0.0, 1.0, 0.0, ..., 'none', 21.7, 56.9]], dtype=object)"
      ]
     },
     "execution_count": 6,
     "metadata": {},
     "output_type": "execute_result"
    }
   ],
   "execution_count": 6
  },
  {
   "metadata": {
    "ExecuteTime": {
     "end_time": "2024-07-20T09:03:17.921868Z",
     "start_time": "2024-07-20T09:03:17.909998Z"
    }
   },
   "cell_type": "code",
   "source": [
    "X[:, 5] = label_encoder.fit_transform(X[:, 5])\n",
    "X"
   ],
   "id": "617ee066bd6b98d1",
   "outputs": [
    {
     "data": {
      "text/plain": [
       "array([[0.0, 0.0, 1.0, ..., 0, 31.71960241024412, 61.59186060848997],\n",
       "       [0.0, 1.0, 0.0, ..., 2, 28.91948412187396, 52.42227609891599],\n",
       "       [0.0, 0.0, 1.0, ..., 1, 23.1790588882854, 44.66053858490323],\n",
       "       ...,\n",
       "       [0.0, 0.0, 1.0, ..., 1, 24.5, 61.7],\n",
       "       [1.0, 0.0, 0.0, ..., 2, 27.9, 69.5],\n",
       "       [0.0, 1.0, 0.0, ..., 1, 21.7, 56.9]], dtype=object)"
      ]
     },
     "execution_count": 7,
     "metadata": {},
     "output_type": "execute_result"
    }
   ],
   "execution_count": 7
  },
  {
   "metadata": {
    "ExecuteTime": {
     "end_time": "2024-07-20T09:03:19.503357Z",
     "start_time": "2024-07-20T09:03:19.482085Z"
    }
   },
   "cell_type": "code",
   "source": [
    "\n",
    "ct = ColumnTransformer(\n",
    "    transformers=[\n",
    "        ('fertilizer_type', OneHotEncoder(drop='first'), [5])\n",
    "    ], remainder='passthrough'\n",
    ")\n",
    "\n",
    "# Fit and transform the dataset\n",
    "X = np.array(ct.fit_transform(X))\n",
    "X"
   ],
   "id": "559b184f1ff25bba",
   "outputs": [
    {
     "data": {
      "text/plain": [
       "array([[0.0, 0.0, 0.0, ..., 5.192294089205035, 31.71960241024412,\n",
       "        61.59186060848997],\n",
       "       [0.0, 1.0, 0.0, ..., 4.033132702741614, 28.91948412187396,\n",
       "        52.42227609891599],\n",
       "       [1.0, 0.0, 0.0, ..., 8.892768570729004, 23.1790588882854,\n",
       "        44.66053858490323],\n",
       "       ...,\n",
       "       [1.0, 0.0, 0.0, ..., 4.934, 24.5, 61.7],\n",
       "       [0.0, 1.0, 1.0, ..., 8.273, 27.9, 69.5],\n",
       "       [1.0, 0.0, 0.0, ..., 6.732, 21.7, 56.9]], dtype=object)"
      ]
     },
     "execution_count": 8,
     "metadata": {},
     "output_type": "execute_result"
    }
   ],
   "execution_count": 8
  },
  {
   "metadata": {
    "ExecuteTime": {
     "end_time": "2024-07-20T09:03:21.124827Z",
     "start_time": "2024-07-20T09:03:21.015656Z"
    }
   },
   "cell_type": "code",
   "source": [
    "from sklearn.model_selection import train_test_split\n",
    "X_train, X_test, Y_train, Y_test = train_test_split(X, Y, test_size=0.2, random_state=0)"
   ],
   "id": "b27c19d1d8352555",
   "outputs": [],
   "execution_count": 9
  },
  {
   "metadata": {
    "ExecuteTime": {
     "end_time": "2024-07-20T09:03:22.159420Z",
     "start_time": "2024-07-20T09:03:22.145525Z"
    }
   },
   "cell_type": "code",
   "source": [
    "from sklearn.preprocessing import StandardScaler\n",
    "sc_X=StandardScaler()\n",
    "X_train=sc_X.fit_transform(X_train)\n",
    "X_test=sc_X.transform(X_test)\n",
    "\n",
    "# Will only scale X"
   ],
   "id": "4427fbcc97f1fe55",
   "outputs": [],
   "execution_count": 10
  },
  {
   "metadata": {
    "ExecuteTime": {
     "end_time": "2024-07-20T09:03:23.374271Z",
     "start_time": "2024-07-20T09:03:23.219513Z"
    }
   },
   "cell_type": "code",
   "source": [
    "from sklearn.linear_model import LogisticRegression\n",
    "classifier = LogisticRegression(random_state=0)\n",
    "classifier.fit(X_train,Y_train)\n",
    "Y_pred=classifier.predict(X_test)"
   ],
   "id": "2cd2ed947b810834",
   "outputs": [],
   "execution_count": 11
  },
  {
   "metadata": {
    "ExecuteTime": {
     "end_time": "2024-07-20T09:03:24.289932Z",
     "start_time": "2024-07-20T09:03:24.280004Z"
    }
   },
   "cell_type": "code",
   "source": "print(Y_test.shape, Y_pred.shape)\n",
   "id": "429e48f5dae24611",
   "outputs": [
    {
     "name": "stdout",
     "output_type": "stream",
     "text": [
      "(39,) (39,)\n"
     ]
    }
   ],
   "execution_count": 12
  },
  {
   "metadata": {},
   "cell_type": "markdown",
   "source": "# Accuracy Check",
   "id": "1f9532d48a579fa8"
  },
  {
   "metadata": {
    "ExecuteTime": {
     "end_time": "2024-07-20T05:46:38.091474Z",
     "start_time": "2024-07-20T05:46:38.077791Z"
    }
   },
   "cell_type": "code",
   "source": [
    "from sklearn.metrics import r2_score\n",
    "r2=r2_score(Y_test,Y_pred)\n",
    "print(r2)"
   ],
   "id": "b5608f56a16895d0",
   "outputs": [
    {
     "name": "stdout",
     "output_type": "stream",
     "text": [
      "-0.8473684210526313\n"
     ]
    }
   ],
   "execution_count": 50
  },
  {
   "metadata": {},
   "cell_type": "markdown",
   "source": "## Confusion Matrix",
   "id": "ca7f2266c285a5b8"
  },
  {
   "metadata": {
    "ExecuteTime": {
     "end_time": "2024-07-20T09:03:29.737852Z",
     "start_time": "2024-07-20T09:03:29.712970Z"
    }
   },
   "cell_type": "code",
   "source": [
    "from sklearn.metrics import confusion_matrix # Function not class\n",
    "cm=confusion_matrix(Y_test,Y_pred)\n",
    "cm"
   ],
   "id": "55e4ac87a986e916",
   "outputs": [
    {
     "data": {
      "text/plain": [
       "array([[10, 10],\n",
       "       [ 8, 11]])"
      ]
     },
     "execution_count": 13,
     "metadata": {},
     "output_type": "execute_result"
    }
   ],
   "execution_count": 13
  }
 ],
 "metadata": {
  "kernelspec": {
   "display_name": "Python 3",
   "language": "python",
   "name": "python3"
  },
  "language_info": {
   "codemirror_mode": {
    "name": "ipython",
    "version": 2
   },
   "file_extension": ".py",
   "mimetype": "text/x-python",
   "name": "python",
   "nbconvert_exporter": "python",
   "pygments_lexer": "ipython2",
   "version": "2.7.6"
  }
 },
 "nbformat": 4,
 "nbformat_minor": 5
}
