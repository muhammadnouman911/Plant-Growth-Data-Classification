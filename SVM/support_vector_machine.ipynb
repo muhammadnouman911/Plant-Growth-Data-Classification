{
 "cells": [
  {
   "metadata": {
    "ExecuteTime": {
     "end_time": "2024-07-20T09:04:43.097795Z",
     "start_time": "2024-07-20T09:04:42.035872Z"
    }
   },
   "cell_type": "code",
   "source": [
    "import pandas as pd\n",
    "import numpy as np\n",
    "import matplotlib.pyplot as plt"
   ],
   "id": "914a036e89b6de42",
   "outputs": [],
   "execution_count": 1
  },
  {
   "metadata": {
    "ExecuteTime": {
     "end_time": "2024-07-20T09:04:44.162418Z",
     "start_time": "2024-07-20T09:04:44.093882Z"
    }
   },
   "cell_type": "code",
   "source": [
    "df=pd.read_csv('../plant_growth_data.csv')\n",
    "df.head()\n",
    "X=df.iloc[:,:-1]\n",
    "Y=df.iloc[:,-1]\n",
    "X"
   ],
   "id": "31ad38a01f28fa7a",
   "outputs": [
    {
     "data": {
      "text/plain": [
       "    Soil_Type  Sunlight_Hours Water_Frequency Fertilizer_Type  Temperature  \\\n",
       "0        loam        5.192294       bi-weekly        chemical    31.719602   \n",
       "1       sandy        4.033133          weekly         organic    28.919484   \n",
       "2        loam        8.892769       bi-weekly            none    23.179059   \n",
       "3        loam        8.241144       bi-weekly            none    18.465886   \n",
       "4       sandy        8.374043       bi-weekly         organic    18.128741   \n",
       "..        ...             ...             ...             ...          ...   \n",
       "188     sandy        5.652000           daily            none    28.000000   \n",
       "189      clay        7.528000          weekly        chemical    30.500000   \n",
       "190      loam        4.934000       bi-weekly            none    24.500000   \n",
       "191     sandy        8.273000           daily         organic    27.900000   \n",
       "192      clay        6.732000          weekly            none    21.700000   \n",
       "\n",
       "      Humidity  \n",
       "0    61.591861  \n",
       "1    52.422276  \n",
       "2    44.660539  \n",
       "3    46.433227  \n",
       "4    63.625923  \n",
       "..         ...  \n",
       "188  70.200000  \n",
       "189  60.100000  \n",
       "190  61.700000  \n",
       "191  69.500000  \n",
       "192  56.900000  \n",
       "\n",
       "[193 rows x 6 columns]"
      ],
      "text/html": [
       "<div>\n",
       "<style scoped>\n",
       "    .dataframe tbody tr th:only-of-type {\n",
       "        vertical-align: middle;\n",
       "    }\n",
       "\n",
       "    .dataframe tbody tr th {\n",
       "        vertical-align: top;\n",
       "    }\n",
       "\n",
       "    .dataframe thead th {\n",
       "        text-align: right;\n",
       "    }\n",
       "</style>\n",
       "<table border=\"1\" class=\"dataframe\">\n",
       "  <thead>\n",
       "    <tr style=\"text-align: right;\">\n",
       "      <th></th>\n",
       "      <th>Soil_Type</th>\n",
       "      <th>Sunlight_Hours</th>\n",
       "      <th>Water_Frequency</th>\n",
       "      <th>Fertilizer_Type</th>\n",
       "      <th>Temperature</th>\n",
       "      <th>Humidity</th>\n",
       "    </tr>\n",
       "  </thead>\n",
       "  <tbody>\n",
       "    <tr>\n",
       "      <th>0</th>\n",
       "      <td>loam</td>\n",
       "      <td>5.192294</td>\n",
       "      <td>bi-weekly</td>\n",
       "      <td>chemical</td>\n",
       "      <td>31.719602</td>\n",
       "      <td>61.591861</td>\n",
       "    </tr>\n",
       "    <tr>\n",
       "      <th>1</th>\n",
       "      <td>sandy</td>\n",
       "      <td>4.033133</td>\n",
       "      <td>weekly</td>\n",
       "      <td>organic</td>\n",
       "      <td>28.919484</td>\n",
       "      <td>52.422276</td>\n",
       "    </tr>\n",
       "    <tr>\n",
       "      <th>2</th>\n",
       "      <td>loam</td>\n",
       "      <td>8.892769</td>\n",
       "      <td>bi-weekly</td>\n",
       "      <td>none</td>\n",
       "      <td>23.179059</td>\n",
       "      <td>44.660539</td>\n",
       "    </tr>\n",
       "    <tr>\n",
       "      <th>3</th>\n",
       "      <td>loam</td>\n",
       "      <td>8.241144</td>\n",
       "      <td>bi-weekly</td>\n",
       "      <td>none</td>\n",
       "      <td>18.465886</td>\n",
       "      <td>46.433227</td>\n",
       "    </tr>\n",
       "    <tr>\n",
       "      <th>4</th>\n",
       "      <td>sandy</td>\n",
       "      <td>8.374043</td>\n",
       "      <td>bi-weekly</td>\n",
       "      <td>organic</td>\n",
       "      <td>18.128741</td>\n",
       "      <td>63.625923</td>\n",
       "    </tr>\n",
       "    <tr>\n",
       "      <th>...</th>\n",
       "      <td>...</td>\n",
       "      <td>...</td>\n",
       "      <td>...</td>\n",
       "      <td>...</td>\n",
       "      <td>...</td>\n",
       "      <td>...</td>\n",
       "    </tr>\n",
       "    <tr>\n",
       "      <th>188</th>\n",
       "      <td>sandy</td>\n",
       "      <td>5.652000</td>\n",
       "      <td>daily</td>\n",
       "      <td>none</td>\n",
       "      <td>28.000000</td>\n",
       "      <td>70.200000</td>\n",
       "    </tr>\n",
       "    <tr>\n",
       "      <th>189</th>\n",
       "      <td>clay</td>\n",
       "      <td>7.528000</td>\n",
       "      <td>weekly</td>\n",
       "      <td>chemical</td>\n",
       "      <td>30.500000</td>\n",
       "      <td>60.100000</td>\n",
       "    </tr>\n",
       "    <tr>\n",
       "      <th>190</th>\n",
       "      <td>loam</td>\n",
       "      <td>4.934000</td>\n",
       "      <td>bi-weekly</td>\n",
       "      <td>none</td>\n",
       "      <td>24.500000</td>\n",
       "      <td>61.700000</td>\n",
       "    </tr>\n",
       "    <tr>\n",
       "      <th>191</th>\n",
       "      <td>sandy</td>\n",
       "      <td>8.273000</td>\n",
       "      <td>daily</td>\n",
       "      <td>organic</td>\n",
       "      <td>27.900000</td>\n",
       "      <td>69.500000</td>\n",
       "    </tr>\n",
       "    <tr>\n",
       "      <th>192</th>\n",
       "      <td>clay</td>\n",
       "      <td>6.732000</td>\n",
       "      <td>weekly</td>\n",
       "      <td>none</td>\n",
       "      <td>21.700000</td>\n",
       "      <td>56.900000</td>\n",
       "    </tr>\n",
       "  </tbody>\n",
       "</table>\n",
       "<p>193 rows × 6 columns</p>\n",
       "</div>"
      ]
     },
     "execution_count": 2,
     "metadata": {},
     "output_type": "execute_result"
    }
   ],
   "execution_count": 2
  },
  {
   "metadata": {
    "ExecuteTime": {
     "end_time": "2024-07-20T09:04:46.353153Z",
     "start_time": "2024-07-20T09:04:45.255279Z"
    }
   },
   "cell_type": "code",
   "source": [
    "from sklearn.preprocessing import LabelEncoder\n",
    "label_encoder = LabelEncoder()\n",
    "X.iloc[:, 0] = label_encoder.fit_transform(X.iloc[:, 0])\n",
    "X"
   ],
   "id": "514516b94b2ebc02",
   "outputs": [
    {
     "data": {
      "text/plain": [
       "    Soil_Type  Sunlight_Hours Water_Frequency Fertilizer_Type  Temperature  \\\n",
       "0           1        5.192294       bi-weekly        chemical    31.719602   \n",
       "1           2        4.033133          weekly         organic    28.919484   \n",
       "2           1        8.892769       bi-weekly            none    23.179059   \n",
       "3           1        8.241144       bi-weekly            none    18.465886   \n",
       "4           2        8.374043       bi-weekly         organic    18.128741   \n",
       "..        ...             ...             ...             ...          ...   \n",
       "188         2        5.652000           daily            none    28.000000   \n",
       "189         0        7.528000          weekly        chemical    30.500000   \n",
       "190         1        4.934000       bi-weekly            none    24.500000   \n",
       "191         2        8.273000           daily         organic    27.900000   \n",
       "192         0        6.732000          weekly            none    21.700000   \n",
       "\n",
       "      Humidity  \n",
       "0    61.591861  \n",
       "1    52.422276  \n",
       "2    44.660539  \n",
       "3    46.433227  \n",
       "4    63.625923  \n",
       "..         ...  \n",
       "188  70.200000  \n",
       "189  60.100000  \n",
       "190  61.700000  \n",
       "191  69.500000  \n",
       "192  56.900000  \n",
       "\n",
       "[193 rows x 6 columns]"
      ],
      "text/html": [
       "<div>\n",
       "<style scoped>\n",
       "    .dataframe tbody tr th:only-of-type {\n",
       "        vertical-align: middle;\n",
       "    }\n",
       "\n",
       "    .dataframe tbody tr th {\n",
       "        vertical-align: top;\n",
       "    }\n",
       "\n",
       "    .dataframe thead th {\n",
       "        text-align: right;\n",
       "    }\n",
       "</style>\n",
       "<table border=\"1\" class=\"dataframe\">\n",
       "  <thead>\n",
       "    <tr style=\"text-align: right;\">\n",
       "      <th></th>\n",
       "      <th>Soil_Type</th>\n",
       "      <th>Sunlight_Hours</th>\n",
       "      <th>Water_Frequency</th>\n",
       "      <th>Fertilizer_Type</th>\n",
       "      <th>Temperature</th>\n",
       "      <th>Humidity</th>\n",
       "    </tr>\n",
       "  </thead>\n",
       "  <tbody>\n",
       "    <tr>\n",
       "      <th>0</th>\n",
       "      <td>1</td>\n",
       "      <td>5.192294</td>\n",
       "      <td>bi-weekly</td>\n",
       "      <td>chemical</td>\n",
       "      <td>31.719602</td>\n",
       "      <td>61.591861</td>\n",
       "    </tr>\n",
       "    <tr>\n",
       "      <th>1</th>\n",
       "      <td>2</td>\n",
       "      <td>4.033133</td>\n",
       "      <td>weekly</td>\n",
       "      <td>organic</td>\n",
       "      <td>28.919484</td>\n",
       "      <td>52.422276</td>\n",
       "    </tr>\n",
       "    <tr>\n",
       "      <th>2</th>\n",
       "      <td>1</td>\n",
       "      <td>8.892769</td>\n",
       "      <td>bi-weekly</td>\n",
       "      <td>none</td>\n",
       "      <td>23.179059</td>\n",
       "      <td>44.660539</td>\n",
       "    </tr>\n",
       "    <tr>\n",
       "      <th>3</th>\n",
       "      <td>1</td>\n",
       "      <td>8.241144</td>\n",
       "      <td>bi-weekly</td>\n",
       "      <td>none</td>\n",
       "      <td>18.465886</td>\n",
       "      <td>46.433227</td>\n",
       "    </tr>\n",
       "    <tr>\n",
       "      <th>4</th>\n",
       "      <td>2</td>\n",
       "      <td>8.374043</td>\n",
       "      <td>bi-weekly</td>\n",
       "      <td>organic</td>\n",
       "      <td>18.128741</td>\n",
       "      <td>63.625923</td>\n",
       "    </tr>\n",
       "    <tr>\n",
       "      <th>...</th>\n",
       "      <td>...</td>\n",
       "      <td>...</td>\n",
       "      <td>...</td>\n",
       "      <td>...</td>\n",
       "      <td>...</td>\n",
       "      <td>...</td>\n",
       "    </tr>\n",
       "    <tr>\n",
       "      <th>188</th>\n",
       "      <td>2</td>\n",
       "      <td>5.652000</td>\n",
       "      <td>daily</td>\n",
       "      <td>none</td>\n",
       "      <td>28.000000</td>\n",
       "      <td>70.200000</td>\n",
       "    </tr>\n",
       "    <tr>\n",
       "      <th>189</th>\n",
       "      <td>0</td>\n",
       "      <td>7.528000</td>\n",
       "      <td>weekly</td>\n",
       "      <td>chemical</td>\n",
       "      <td>30.500000</td>\n",
       "      <td>60.100000</td>\n",
       "    </tr>\n",
       "    <tr>\n",
       "      <th>190</th>\n",
       "      <td>1</td>\n",
       "      <td>4.934000</td>\n",
       "      <td>bi-weekly</td>\n",
       "      <td>none</td>\n",
       "      <td>24.500000</td>\n",
       "      <td>61.700000</td>\n",
       "    </tr>\n",
       "    <tr>\n",
       "      <th>191</th>\n",
       "      <td>2</td>\n",
       "      <td>8.273000</td>\n",
       "      <td>daily</td>\n",
       "      <td>organic</td>\n",
       "      <td>27.900000</td>\n",
       "      <td>69.500000</td>\n",
       "    </tr>\n",
       "    <tr>\n",
       "      <th>192</th>\n",
       "      <td>0</td>\n",
       "      <td>6.732000</td>\n",
       "      <td>weekly</td>\n",
       "      <td>none</td>\n",
       "      <td>21.700000</td>\n",
       "      <td>56.900000</td>\n",
       "    </tr>\n",
       "  </tbody>\n",
       "</table>\n",
       "<p>193 rows × 6 columns</p>\n",
       "</div>"
      ]
     },
     "execution_count": 3,
     "metadata": {},
     "output_type": "execute_result"
    }
   ],
   "execution_count": 3
  },
  {
   "metadata": {
    "ExecuteTime": {
     "end_time": "2024-07-20T09:04:47.707012Z",
     "start_time": "2024-07-20T09:04:47.658764Z"
    }
   },
   "cell_type": "code",
   "source": [
    "from sklearn.preprocessing import OneHotEncoder\n",
    "from sklearn.compose import ColumnTransformer\n",
    "#Argument should be categorial data feild\n",
    "\n",
    "\n",
    "# Country column\n",
    "# Assuming X is your dataset\n",
    "# Define the ColumnTransformer with OneHotEncoder for the first column (index 0)\n",
    "ct = ColumnTransformer(\n",
    "    transformers=[\n",
    "        ('soil', OneHotEncoder(drop='first'), [0])\n",
    "    ], remainder='passthrough'\n",
    ")\n",
    "\n",
    "# Fit and transform the dataset\n",
    "X = np.array(ct.fit_transform(X))\n",
    "X"
   ],
   "id": "2ce189a4bc556550",
   "outputs": [
    {
     "data": {
      "text/plain": [
       "array([[1.0, 0.0, 5.192294089205035, ..., 'chemical', 31.71960241024412,\n",
       "        61.59186060848997],\n",
       "       [0.0, 1.0, 4.033132702741614, ..., 'organic', 28.91948412187396,\n",
       "        52.42227609891599],\n",
       "       [1.0, 0.0, 8.892768570729004, ..., 'none', 23.1790588882854,\n",
       "        44.66053858490323],\n",
       "       ...,\n",
       "       [1.0, 0.0, 4.934, ..., 'none', 24.5, 61.7],\n",
       "       [0.0, 1.0, 8.273, ..., 'organic', 27.9, 69.5],\n",
       "       [0.0, 0.0, 6.732, ..., 'none', 21.7, 56.9]], dtype=object)"
      ]
     },
     "execution_count": 4,
     "metadata": {},
     "output_type": "execute_result"
    }
   ],
   "execution_count": 4
  },
  {
   "metadata": {
    "ExecuteTime": {
     "end_time": "2024-07-20T09:04:48.997735Z",
     "start_time": "2024-07-20T09:04:48.984878Z"
    }
   },
   "cell_type": "code",
   "source": [
    "X[:, 3] = label_encoder.fit_transform(X[:, 3])\n",
    "X"
   ],
   "id": "fefea82900a48ee7",
   "outputs": [
    {
     "data": {
      "text/plain": [
       "array([[1.0, 0.0, 5.192294089205035, ..., 'chemical', 31.71960241024412,\n",
       "        61.59186060848997],\n",
       "       [0.0, 1.0, 4.033132702741614, ..., 'organic', 28.91948412187396,\n",
       "        52.42227609891599],\n",
       "       [1.0, 0.0, 8.892768570729004, ..., 'none', 23.1790588882854,\n",
       "        44.66053858490323],\n",
       "       ...,\n",
       "       [1.0, 0.0, 4.934, ..., 'none', 24.5, 61.7],\n",
       "       [0.0, 1.0, 8.273, ..., 'organic', 27.9, 69.5],\n",
       "       [0.0, 0.0, 6.732, ..., 'none', 21.7, 56.9]], dtype=object)"
      ]
     },
     "execution_count": 5,
     "metadata": {},
     "output_type": "execute_result"
    }
   ],
   "execution_count": 5
  },
  {
   "metadata": {
    "ExecuteTime": {
     "end_time": "2024-07-20T09:04:50.263349Z",
     "start_time": "2024-07-20T09:04:50.243109Z"
    }
   },
   "cell_type": "code",
   "source": [
    "\n",
    "ct = ColumnTransformer(\n",
    "    transformers=[\n",
    "        ('water_frequency', OneHotEncoder(drop='first'), [3])\n",
    "    ], remainder='passthrough'\n",
    ")\n",
    "\n",
    "# Fit and transform the dataset\n",
    "X = np.array(ct.fit_transform(X))\n",
    "X"
   ],
   "id": "7ab2b274682d05ae",
   "outputs": [
    {
     "data": {
      "text/plain": [
       "array([[0.0, 0.0, 1.0, ..., 'chemical', 31.71960241024412,\n",
       "        61.59186060848997],\n",
       "       [0.0, 1.0, 0.0, ..., 'organic', 28.91948412187396,\n",
       "        52.42227609891599],\n",
       "       [0.0, 0.0, 1.0, ..., 'none', 23.1790588882854, 44.66053858490323],\n",
       "       ...,\n",
       "       [0.0, 0.0, 1.0, ..., 'none', 24.5, 61.7],\n",
       "       [1.0, 0.0, 0.0, ..., 'organic', 27.9, 69.5],\n",
       "       [0.0, 1.0, 0.0, ..., 'none', 21.7, 56.9]], dtype=object)"
      ]
     },
     "execution_count": 6,
     "metadata": {},
     "output_type": "execute_result"
    }
   ],
   "execution_count": 6
  },
  {
   "metadata": {
    "ExecuteTime": {
     "end_time": "2024-07-20T09:04:51.541729Z",
     "start_time": "2024-07-20T09:04:51.526170Z"
    }
   },
   "cell_type": "code",
   "source": [
    "X[:, 5] = label_encoder.fit_transform(X[:, 5])\n",
    "X"
   ],
   "id": "491f4bfd415afaaa",
   "outputs": [
    {
     "data": {
      "text/plain": [
       "array([[0.0, 0.0, 1.0, ..., 0, 31.71960241024412, 61.59186060848997],\n",
       "       [0.0, 1.0, 0.0, ..., 2, 28.91948412187396, 52.42227609891599],\n",
       "       [0.0, 0.0, 1.0, ..., 1, 23.1790588882854, 44.66053858490323],\n",
       "       ...,\n",
       "       [0.0, 0.0, 1.0, ..., 1, 24.5, 61.7],\n",
       "       [1.0, 0.0, 0.0, ..., 2, 27.9, 69.5],\n",
       "       [0.0, 1.0, 0.0, ..., 1, 21.7, 56.9]], dtype=object)"
      ]
     },
     "execution_count": 7,
     "metadata": {},
     "output_type": "execute_result"
    }
   ],
   "execution_count": 7
  },
  {
   "metadata": {
    "ExecuteTime": {
     "end_time": "2024-07-20T09:04:52.598140Z",
     "start_time": "2024-07-20T09:04:52.569268Z"
    }
   },
   "cell_type": "code",
   "source": [
    "\n",
    "ct = ColumnTransformer(\n",
    "    transformers=[\n",
    "        ('fertilizer_type', OneHotEncoder(drop='first'), [5])\n",
    "    ], remainder='passthrough'\n",
    ")\n",
    "\n",
    "# Fit and transform the dataset\n",
    "X = np.array(ct.fit_transform(X))\n",
    "X"
   ],
   "id": "8b4520636c1e98bf",
   "outputs": [
    {
     "data": {
      "text/plain": [
       "array([[0.0, 0.0, 0.0, ..., 5.192294089205035, 31.71960241024412,\n",
       "        61.59186060848997],\n",
       "       [0.0, 1.0, 0.0, ..., 4.033132702741614, 28.91948412187396,\n",
       "        52.42227609891599],\n",
       "       [1.0, 0.0, 0.0, ..., 8.892768570729004, 23.1790588882854,\n",
       "        44.66053858490323],\n",
       "       ...,\n",
       "       [1.0, 0.0, 0.0, ..., 4.934, 24.5, 61.7],\n",
       "       [0.0, 1.0, 1.0, ..., 8.273, 27.9, 69.5],\n",
       "       [1.0, 0.0, 0.0, ..., 6.732, 21.7, 56.9]], dtype=object)"
      ]
     },
     "execution_count": 8,
     "metadata": {},
     "output_type": "execute_result"
    }
   ],
   "execution_count": 8
  },
  {
   "metadata": {
    "ExecuteTime": {
     "end_time": "2024-07-20T09:04:53.535102Z",
     "start_time": "2024-07-20T09:04:53.472868Z"
    }
   },
   "cell_type": "code",
   "source": [
    "from sklearn.model_selection import train_test_split\n",
    "X_train, X_test, Y_train, Y_test = train_test_split(X, Y, test_size=0.2, random_state=0)"
   ],
   "id": "75a27d7624c69bfd",
   "outputs": [],
   "execution_count": 9
  },
  {
   "metadata": {
    "ExecuteTime": {
     "end_time": "2024-07-20T09:04:54.418046Z",
     "start_time": "2024-07-20T09:04:54.406137Z"
    }
   },
   "cell_type": "code",
   "source": [
    "from sklearn.preprocessing import StandardScaler\n",
    "sc_X=StandardScaler()\n",
    "X_train=sc_X.fit_transform(X_train)\n",
    "X_test=sc_X.transform(X_test)\n",
    "\n",
    "# Will only scale X"
   ],
   "id": "4d3008add2d92e84",
   "outputs": [],
   "execution_count": 10
  },
  {
   "metadata": {
    "ExecuteTime": {
     "end_time": "2024-07-20T09:04:55.371715Z",
     "start_time": "2024-07-20T09:04:55.275278Z"
    }
   },
   "cell_type": "code",
   "source": [
    "from sklearn.svm import SVC\n",
    "classifier = SVC(kernel='linear',random_state=0)\n",
    "classifier.fit(X_train,Y_train)\n",
    "Y_pred=classifier.predict(X_test)"
   ],
   "id": "33c055f24125d532",
   "outputs": [],
   "execution_count": 11
  },
  {
   "metadata": {
    "ExecuteTime": {
     "end_time": "2024-07-20T09:04:56.374022Z",
     "start_time": "2024-07-20T09:04:56.364471Z"
    }
   },
   "cell_type": "code",
   "source": "print(Y_test.shape, Y_pred.shape)\n",
   "id": "ca14b86137971a1c",
   "outputs": [
    {
     "name": "stdout",
     "output_type": "stream",
     "text": [
      "(39,) (39,)\n"
     ]
    }
   ],
   "execution_count": 12
  },
  {
   "metadata": {},
   "cell_type": "markdown",
   "source": "# Accuracy Check",
   "id": "c22f5f40876fd495"
  },
  {
   "metadata": {
    "ExecuteTime": {
     "end_time": "2024-07-20T09:04:58.877893Z",
     "start_time": "2024-07-20T09:04:58.866203Z"
    }
   },
   "cell_type": "code",
   "source": [
    "from sklearn.metrics import r2_score\n",
    "r2=r2_score(Y_test,Y_pred)\n",
    "print(r2)"
   ],
   "id": "746a52d96bc2534d",
   "outputs": [
    {
     "name": "stdout",
     "output_type": "stream",
     "text": [
      "-0.23157894736842088\n"
     ]
    }
   ],
   "execution_count": 13
  },
  {
   "metadata": {},
   "cell_type": "markdown",
   "source": "## Confusion Matrix",
   "id": "39d29c10d64958ec"
  },
  {
   "metadata": {
    "ExecuteTime": {
     "end_time": "2024-07-20T09:05:01.999910Z",
     "start_time": "2024-07-20T09:05:01.980447Z"
    }
   },
   "cell_type": "code",
   "source": [
    "from sklearn.metrics import confusion_matrix # Function not class\n",
    "cm=confusion_matrix(Y_test,Y_pred)\n",
    "cm"
   ],
   "id": "d22c0daaedcab123",
   "outputs": [
    {
     "data": {
      "text/plain": [
       "array([[11,  9],\n",
       "       [ 3, 16]])"
      ]
     },
     "execution_count": 14,
     "metadata": {},
     "output_type": "execute_result"
    }
   ],
   "execution_count": 14
  }
 ],
 "metadata": {
  "kernelspec": {
   "display_name": "Python 3",
   "language": "python",
   "name": "python3"
  },
  "language_info": {
   "codemirror_mode": {
    "name": "ipython",
    "version": 2
   },
   "file_extension": ".py",
   "mimetype": "text/x-python",
   "name": "python",
   "nbconvert_exporter": "python",
   "pygments_lexer": "ipython2",
   "version": "2.7.6"
  }
 },
 "nbformat": 4,
 "nbformat_minor": 5
}
